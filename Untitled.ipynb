{
 "cells": [
  {
   "cell_type": "code",
   "execution_count": null,
   "id": "a0e4f27e",
   "metadata": {},
   "outputs": [],
   "source": [
    "#1.Identify the data type of the following values:\n",
    "\n",
    "#99.9 = number float \n",
    "\n",
    "#\"False\" = string\n",
    "\n",
    "#False = boolean\n",
    "\n",
    "#'0' = string\n",
    "\n",
    "#0 = number or boolean\n",
    "\n",
    "#True = boolean\n",
    "\n",
    "#'True' = string\n",
    "\n",
    "#[{}] =\n",
    "\n",
    "#{'a': []} ="
   ]
  },
  {
   "cell_type": "code",
   "execution_count": null,
   "id": "8aa68759",
   "metadata": {},
   "outputs": [],
   "source": [
    "#2. What data type would best represent the following?\n",
    "\n",
    "#A term or phrase typed into a search box = string\n",
    "#Whether or not a user is logged in = boolean\n",
    "#A discount amount to apply to a user's shopping cart = number\n",
    "#Whether or not a coupon code is valid = boolean\n",
    "#An email address typed into a registration form = string\n",
    "#The price of a product = number\n",
    "#The email addresses collected from a registration form = string\n",
    "#Information about applicants to Codeup's data science program = string"
   ]
  },
  {
   "cell_type": "code",
   "execution_count": null,
   "id": "eecf4c0e",
   "metadata": {},
   "outputs": [],
   "source": [
    "#3. For each of the following code blocks:\n",
    "\n",
    "#Read the expression and predict the evaluated results\n",
    "\n",
    "#Execute the expression in a Python REPL.\n",
    "\n",
    "\n",
    "#'1' + 2 = error\n",
    "\n",
    "#6 % 4 = 2\n",
    "\n",
    "#type(6 % 4) = int\n",
    "\n",
    "#type(type(6 % 4)) = type \n",
    "\n",
    "#'3 + 4 is ' + 3 + 4 = error\n",
    "\n",
    "#0 < 0 = false\n",
    "\n",
    "#'False' == False = False\n",
    "\n",
    "#True == 'True' = True\n",
    "\n",
    "#5 >= -5 = True\n",
    "\n",
    "#True or \"42\" = True\n",
    "\n",
    "#6 % 5 = 1\n",
    "\n",
    "#5 < 4 and 1 == 1 = False\n",
    "\n",
    "#'codeup' == 'codeup' and 'codeup' == 'Codeup' = False\n",
    "\n",
    "#4 >= 0 and 1 !== '1' = error\n",
    "\n",
    "#6 % 3 == 0 = True\n",
    "\n",
    "#5 % 2 != 0 = True\n",
    "\n",
    "#[1] + 2 = error\n",
    "\n",
    "#[1] + [2] = [1,2]\n",
    "\n",
    "#[1] * 2 = [1,1]\n",
    "\n",
    "#[1] * [2] = error\n",
    "\n",
    "#[] + [] == [] True\n",
    "\n",
    "#{} + {} = error"
   ]
  },
  {
   "cell_type": "code",
   "execution_count": null,
   "id": "342232d7",
   "metadata": {},
   "outputs": [],
   "source": [
    "#4. Create a Python script file named data_types_and_variables.py. \n",
    "#Inside the script, write Python code to describe the following scenarios. \n",
    "#You will need to create and assign variables and use operators."
   ]
  },
  {
   "cell_type": "code",
   "execution_count": null,
   "id": "1144909c",
   "metadata": {},
   "outputs": [],
   "source": [
    "#5. You have rented some movies for your kids:\n",
    "\n",
    "#The Little Mermaid for 3 days\n",
    "#Brother Bear for 5 days\n",
    "#Hercules for 1 day\n",
    "#If the daily fee to rent a movie is 3 dollars, how much will you have to pay?\n",
    "\n"
   ]
  },
  {
   "cell_type": "code",
   "execution_count": null,
   "id": "e87a19bb",
   "metadata": {},
   "outputs": [],
   "source": [
    "#6. Suppose you're working as a contractor for 3 companies: Google, Amazon and Facebook.\n",
    "\n",
    "#They pay you the following hourly rates:\n",
    "\n",
    "#Google: 400 dollars\n",
    "#Amazon: 380 dollars\n",
    "#Facebook: 350 dollars\n",
    "#This week you worked: 10 hours for Facebook, 6 hours for Google and 4 hours for Amazon.\n",
    "\n",
    "#How much will you receive in payment for this week?\n",
    "\n"
   ]
  },
  {
   "cell_type": "code",
   "execution_count": null,
   "id": "cec322cf",
   "metadata": {},
   "outputs": [],
   "source": [
    "#7. A student can be enrolled to a class only if the class is not full and\n",
    "#the class schedule does not conflict with her current schedule."
   ]
  },
  {
   "cell_type": "code",
   "execution_count": null,
   "id": "77bd9214",
   "metadata": {},
   "outputs": [],
   "source": [
    "#8. A product offer can be applied only if people buys more than 2 items, \n",
    "#and the offer has not expired. Premium members do not need to buy a specific amount of products."
   ]
  },
  {
   "cell_type": "code",
   "execution_count": null,
   "id": "a77c3975",
   "metadata": {},
   "outputs": [],
   "source": [
    "#9. Continue working in the data_types_and_variables.py file. \n",
    "#Use the following code to follow the instructions below:\n",
    "\n",
    "#username = 'codeup'\n",
    "#password = 'notastrongpassword'\n",
    "#Create a variable that holds a boolean value for each of the following conditions:\n",
    "\n",
    "#The password must be at least 5 characters\n",
    "#The username must be no more than 20 characters\n",
    "#The password must not be the same as the username\n",
    "#Bonus Neither the username or password can start or end with whitespace\n"
   ]
  }
 ],
 "metadata": {
  "kernelspec": {
   "display_name": "Python 3 (ipykernel)",
   "language": "python",
   "name": "python3"
  },
  "language_info": {
   "codemirror_mode": {
    "name": "ipython",
    "version": 3
   },
   "file_extension": ".py",
   "mimetype": "text/x-python",
   "name": "python",
   "nbconvert_exporter": "python",
   "pygments_lexer": "ipython3",
   "version": "3.9.13"
  }
 },
 "nbformat": 4,
 "nbformat_minor": 5
}
