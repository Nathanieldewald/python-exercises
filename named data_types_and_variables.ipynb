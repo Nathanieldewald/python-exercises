{
 "cells": [
  {
   "cell_type": "code",
   "execution_count": null,
   "id": "596d7064",
   "metadata": {},
   "outputs": [],
   "source": [
    "#1.Identify the data type of the following values:\n",
    "\n",
    "#99.9 = number float \n",
    "\n",
    "#\"False\" = string\n",
    "\n",
    "#False = boolean\n",
    "\n",
    "#'0' = string\n",
    "\n",
    "#0 = number or boolean\n",
    "\n",
    "#True = boolean\n",
    "\n",
    "#'True' = string\n",
    "\n",
    "#[{}] =\n",
    "\n",
    "#{'a': []} ="
   ]
  },
  {
   "cell_type": "code",
   "execution_count": null,
   "id": "7d4b5187",
   "metadata": {},
   "outputs": [],
   "source": [
    "#2. What data type would best represent the following?\n",
    "\n",
    "#A term or phrase typed into a search box = string\n",
    "#Whether or not a user is logged in = boolean\n",
    "#A discount amount to apply to a user's shopping cart = number\n",
    "#Whether or not a coupon code is valid = boolean\n",
    "#An email address typed into a registration form = string\n",
    "#The price of a product = number\n",
    "#The email addresses collected from a registration form = string\n",
    "#Information about applicants to Codeup's data science program = string"
   ]
  },
  {
   "cell_type": "code",
   "execution_count": null,
   "id": "b8177a97",
   "metadata": {},
   "outputs": [],
   "source": [
    "#3. For each of the following code blocks:\n",
    "\n",
    "#Read the expression and predict the evaluated results\n",
    "\n",
    "#Execute the expression in a Python REPL.\n",
    "\n",
    "\n",
    "#'1' + 2 = error\n",
    "\n",
    "#6 % 4 = 2\n",
    "\n",
    "#type(6 % 4) = int\n",
    "\n",
    "#type(type(6 % 4)) = type \n",
    "\n",
    "#'3 + 4 is ' + 3 + 4 = error\n",
    "\n",
    "#0 < 0 = false\n",
    "\n",
    "#'False' == False = False\n",
    "\n",
    "#True == 'True' = True\n",
    "\n",
    "#5 >= -5 = True\n",
    "\n",
    "#True or \"42\" = True\n",
    "\n",
    "#6 % 5 = 1\n",
    "\n",
    "#5 < 4 and 1 == 1 = False\n",
    "\n",
    "#'codeup' == 'codeup' and 'codeup' == 'Codeup' = False\n",
    "\n",
    "#4 >= 0 and 1 !== '1' = error\n",
    "\n",
    "#6 % 3 == 0 = True\n",
    "\n",
    "#5 % 2 != 0 = True\n",
    "\n",
    "#[1] + 2 = error\n",
    "\n",
    "#[1] + [2] = [1,2]\n",
    "\n",
    "#[1] * 2 = [1,1]\n",
    "\n",
    "#[1] * [2] = error\n",
    "\n",
    "#[] + [] == [] True\n",
    "\n",
    "#{} + {} = error"
   ]
  },
  {
   "cell_type": "code",
   "execution_count": null,
   "id": "8c4e30dd",
   "metadata": {},
   "outputs": [],
   "source": [
    "#4. Create a Python script file named data_types_and_variables.py. \n",
    "#Inside the script, write Python code to describe the following scenarios. \n",
    "#You will need to create and assign variables and use operators."
   ]
  },
  {
   "cell_type": "code",
   "execution_count": 51,
   "id": "1e7fbe8a",
   "metadata": {},
   "outputs": [
    {
     "name": "stdout",
     "output_type": "stream",
     "text": [
      "$ 27\n"
     ]
    }
   ],
   "source": [
    "#5. You have rented some movies for your kids:\n",
    "\n",
    "#The Little Mermaid for 3 days\n",
    "#Brother Bear for 5 days\n",
    "#Hercules for 1 day\n",
    "#If the daily fee to rent a movie is 3 dollars, how much will you have to pay?\n",
    "\n",
    "little_mermaid = 3\n",
    "brother_bear = 5\n",
    "hercules = 1\n",
    "cost_per_day = 3\n",
    "cost = (little_mermaid + brother_bear + hercules) * cost_per_day\n",
    "print('$',cost)\n",
    "    "
   ]
  },
  {
   "cell_type": "code",
   "execution_count": 52,
   "id": "dbbe33db",
   "metadata": {},
   "outputs": [
    {
     "name": "stdout",
     "output_type": "stream",
     "text": [
      "$ 7420\n"
     ]
    }
   ],
   "source": [
    "\n",
    "#6. Suppose you're working as a contractor for 3 companies: Google, Amazon and Facebook.\n",
    "\n",
    "#They pay you the following hourly rates:\n",
    "\n",
    "#Google: 400 dollars\n",
    "#Amazon: 380 dollars\n",
    "#Facebook: 350 dollars\n",
    "#This week you worked: 10 hours for Facebook, 6 hours for Google and 4 hours for Amazon.\n",
    "\n",
    "#How much will you receive in payment for this week?\n",
    "\n",
    "google_hr_rate = 400\n",
    "amazon_hr_rate = 380\n",
    "facebook_hr_rate = 350 \n",
    "google_hrs = 6\n",
    "amazon_hrs = 4\n",
    "facebook_hrs = 10\n",
    "pay_for_the_week = (google_hr_rate * google_hrs) + (amazon_hr_rate * amazon_hrs) + (facebook_hr_rate * facebook_hrs)\n",
    "print ('$', pay_for_the_week)"
   ]
  },
  {
   "cell_type": "code",
   "execution_count": 59,
   "id": "61297aee",
   "metadata": {},
   "outputs": [
    {
     "name": "stdout",
     "output_type": "stream",
     "text": [
      "Class if full try again next term\n"
     ]
    }
   ],
   "source": [
    "#7. A student can be enrolled to a class only if the class is not full and\n",
    "#the class schedule does not conflict with her current schedule.\n",
    "\n",
    "class_cap = 30\n",
    "current_class_cap = 30\n",
    "class_schedule = 'monday'\n",
    "student_open_days = 'monday'\n",
    "\n",
    "if current_class_cap < class_cap and student_open_days == class_schedule:\n",
    "    print('You have enrolled into Codeup')\n",
    "else: \n",
    "    print('Class if full try again next term')"
   ]
  },
  {
   "cell_type": "code",
   "execution_count": 14,
   "id": "784e3fcd",
   "metadata": {},
   "outputs": [
    {
     "name": "stdout",
     "output_type": "stream",
     "text": [
      "Thank you for your purchase and being a loyal customer\n"
     ]
    }
   ],
   "source": [
    "#8. A product offer can be applied only if people buys more than 2 items, \n",
    "#and the offer has not expired. Premium members do not need to buy a specific amount of products.\n",
    "from datetime import date\n",
    "product_count = 3\n",
    "product_coupon_exp_date = date(3000,12,23)\n",
    "membership_type = 'premium'\n",
    "todays_date = date.today()\n",
    "if product_count > 1 and product_coupon_exp_date > todays_date and membership_type == \"member\":\n",
    "    print(\"Thank you for your purchase\")\n",
    "elif membership_type == \"premium\" and product_coupon_exp_date > todays_date: \n",
    "    print(\"Thank you for your purchase and being a loyal customer\")\n",
    "else:\n",
    "    print(\"Please purchanse 2 items or become a Premium member\")"
   ]
  },
  {
   "cell_type": "code",
   "execution_count": 25,
   "id": "271aa0e5",
   "metadata": {},
   "outputs": [
    {
     "name": "stdout",
     "output_type": "stream",
     "text": [
      "Please try again\n"
     ]
    }
   ],
   "source": [
    "#9. Continue working in the data_types_and_variables.py file. \n",
    "#Use the following code to follow the instructions below:\n",
    "\n",
    "username = 'codeup'\n",
    "password = 'notastrongpassword'\n",
    "password_min_length = len(password) >=  5\n",
    "username_max_length = len(username) <= 20\n",
    "password_doesnt_have_username = password.count('codeup', 0, 21) < 1\n",
    "no_whitespace = (username.strip() == username) and (password.strip() == password)\n",
    "\n",
    "if password_min_length and username_max_length and password_doesnt_have_username and no_whitespace:\n",
    "    print(\"You sucessfully entered a user name and password\")\n",
    "else:\n",
    "    print(\"Please try again\")\n",
    "#Create a variable that holds a boolean value for each of the following conditions:\n",
    "\n",
    "#The password must be at least 5 characters\n",
    "#The username must be no more than 20 characters\n",
    "#The password must not be the same as the username\n",
    "#Bonus Neither the username or password can start or end with whitespace\n"
   ]
  }
 ],
 "metadata": {
  "kernelspec": {
   "display_name": "Python 3 (ipykernel)",
   "language": "python",
   "name": "python3"
  },
  "language_info": {
   "codemirror_mode": {
    "name": "ipython",
    "version": 3
   },
   "file_extension": ".py",
   "mimetype": "text/x-python",
   "name": "python",
   "nbconvert_exporter": "python",
   "pygments_lexer": "ipython3",
   "version": "3.9.13"
  }
 },
 "nbformat": 4,
 "nbformat_minor": 5
}
