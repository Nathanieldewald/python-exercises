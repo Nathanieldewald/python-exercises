{
 "cells": [
  {
   "cell_type": "markdown",
   "id": "76d5b318",
   "metadata": {},
   "source": [
    "1.Define a function named is_two. It should accept one input and return True if the passed input is either the number or the string 2, False otherwise."
   ]
  },
  {
   "cell_type": "code",
   "execution_count": 131,
   "id": "405d1967",
   "metadata": {},
   "outputs": [
    {
     "data": {
      "text/plain": [
       "True"
      ]
     },
     "execution_count": 131,
     "metadata": {},
     "output_type": "execute_result"
    }
   ],
   "source": [
    "\n",
    "def is_two(input_var):\n",
    "    check_string = \"two\"\n",
    "    check_number = int(2)\n",
    "    if input_var == check_number:\n",
    "        return True\n",
    "    if input_var.lower() == \"two\":\n",
    "        return True\n",
    "    else:\n",
    "        return False\n",
    "\n",
    "is_two(\"tWo\")"
   ]
  },
  {
   "cell_type": "markdown",
   "id": "1e32019a",
   "metadata": {},
   "source": [
    "2.Define a function named is_vowel. It should return True if the passed string is a vowel, False otherwise."
   ]
  },
  {
   "cell_type": "code",
   "execution_count": 121,
   "id": "f174e757",
   "metadata": {},
   "outputs": [
    {
     "data": {
      "text/plain": [
       "True"
      ]
     },
     "execution_count": 121,
     "metadata": {},
     "output_type": "execute_result"
    }
   ],
   "source": [
    "def is_vowel(input_var):\n",
    "    vowel_list = ['a','e','i','o','u']\n",
    "    if input_var.lower() in vowel_list:\n",
    "        return True\n",
    "    else:\n",
    "        return False\n",
    "is_vowel('a')"
   ]
  },
  {
   "cell_type": "markdown",
   "id": "4e8d2a35",
   "metadata": {},
   "source": [
    "3.Define a function named is_consonant. It should return True if the passed string is a consonant, False otherwise. Use your is_vowel function to accomplish this."
   ]
  },
  {
   "cell_type": "code",
   "execution_count": 124,
   "id": "bc7198dc",
   "metadata": {},
   "outputs": [
    {
     "data": {
      "text/plain": [
       "False"
      ]
     },
     "execution_count": 124,
     "metadata": {},
     "output_type": "execute_result"
    }
   ],
   "source": [
    "def is_consonant(input_var):\n",
    "    vowel_list = ['a','e','i','o','u']\n",
    "    if input_var.lower() in vowel_list:\n",
    "        return False\n",
    "    else:\n",
    "        return True\n",
    "is_consonant('a')  "
   ]
  },
  {
   "cell_type": "markdown",
   "id": "e4cccefb",
   "metadata": {},
   "source": [
    "4.Define a function that accepts a string that is a word. The function should capitalize the first letter of the word if the word starts with a consonant."
   ]
  },
  {
   "cell_type": "code",
   "execution_count": 58,
   "id": "a65d24e1",
   "metadata": {},
   "outputs": [
    {
     "data": {
      "text/plain": [
       "'Hello'"
      ]
     },
     "execution_count": 58,
     "metadata": {},
     "output_type": "execute_result"
    }
   ],
   "source": [
    "def word_check(input_var):\n",
    "    vowel_list = ['a','e','i','o','u']\n",
    "    first_char = input_var[0]\n",
    "    if first_char.lower() in vowel_list:\n",
    "        input_var = \"Now a word\"\n",
    "    else:\n",
    "        input_var = input_var.capitalize()\n",
    "        return input_var\n",
    "word_check(\"helLo\")"
   ]
  },
  {
   "cell_type": "markdown",
   "id": "1e491abf",
   "metadata": {},
   "source": [
    "5.Define a function named calculate_tip. It should accept a tip percentage (a number between 0 and 1) and the bill total, and return the amount to tip."
   ]
  },
  {
   "cell_type": "code",
   "execution_count": 65,
   "id": "342f3754",
   "metadata": {},
   "outputs": [
    {
     "data": {
      "text/plain": [
       "10.0"
      ]
     },
     "execution_count": 65,
     "metadata": {},
     "output_type": "execute_result"
    }
   ],
   "source": [
    "def calculate_tip(input_var_a,input_var_b):\n",
    "    bill_total = input_var_b\n",
    "    tip_percentage = input_var_a\n",
    "    tip_amount = input_var_a * input_var_b\n",
    "    return tip_amount\n",
    "calculate_tip(0.1, 100)   "
   ]
  },
  {
   "cell_type": "markdown",
   "id": "5b0ff823",
   "metadata": {},
   "source": [
    "6.Define a function named apply_discount. It should accept a original price, and a discount percentage, and return the price after the discount is applied.\n"
   ]
  },
  {
   "cell_type": "code",
   "execution_count": 66,
   "id": "a8899124",
   "metadata": {},
   "outputs": [
    {
     "data": {
      "text/plain": [
       "9.0"
      ]
     },
     "execution_count": 66,
     "metadata": {},
     "output_type": "execute_result"
    }
   ],
   "source": [
    "def apply_discount(input_var_a, input_var_b):\n",
    "    price = input_var_a\n",
    "    discounted_amount = input_var_b * price\n",
    "    discounted_price = price - discounted_amount\n",
    "    return discounted_price\n",
    "apply_discount(10,.1)"
   ]
  },
  {
   "cell_type": "markdown",
   "id": "204d21c3",
   "metadata": {},
   "source": [
    "7.Define a function named handle_commas. It should accept a string that is a number that contains commas in it as input, and return a number as output."
   ]
  },
  {
   "cell_type": "code",
   "execution_count": 76,
   "id": "d3917fe1",
   "metadata": {},
   "outputs": [
    {
     "name": "stdout",
     "output_type": "stream",
     "text": [
      "1000000\n"
     ]
    },
    {
     "data": {
      "text/plain": [
       "'1000000'"
      ]
     },
     "execution_count": 76,
     "metadata": {},
     "output_type": "execute_result"
    }
   ],
   "source": [
    "def handle_commas(input_var):\n",
    "    input_var = input_var.replace(\",\", \"\")\n",
    "    print(input_var)\n",
    "    return input_var\n",
    "handle_commas(\"1,000,000\")"
   ]
  },
  {
   "cell_type": "markdown",
   "id": "381bfcfb",
   "metadata": {},
   "source": [
    "8.Define a function named get_letter_grade. It should accept a number and return the letter grade associated with that number (A-F)."
   ]
  },
  {
   "cell_type": "code",
   "execution_count": 79,
   "id": "412150b8",
   "metadata": {},
   "outputs": [
    {
     "data": {
      "text/plain": [
       "'C'"
      ]
     },
     "execution_count": 79,
     "metadata": {},
     "output_type": "execute_result"
    }
   ],
   "source": [
    "def get_letter_grade(input_var):\n",
    "    input_var = int(input_var)\n",
    "    if input_var >= 90:\n",
    "        return \"A\"\n",
    "    if input_var >= 80:\n",
    "        return \"B\"\n",
    "    if input_var >= 70:\n",
    "        return \"C\"\n",
    "    if input_var >= 60:\n",
    "        return \"D\"\n",
    "    else:\n",
    "        return \"F\"\n",
    "get_letter_grade(79)     "
   ]
  },
  {
   "cell_type": "markdown",
   "id": "abed3941",
   "metadata": {},
   "source": [
    "9.Define a function named remove_vowels that accepts a string and returns a string with all the vowels removed."
   ]
  },
  {
   "cell_type": "code",
   "execution_count": 109,
   "id": "0d543e2e",
   "metadata": {},
   "outputs": [
    {
     "data": {
      "text/plain": [
       "'hl   l'"
      ]
     },
     "execution_count": 109,
     "metadata": {},
     "output_type": "execute_result"
    }
   ],
   "source": [
    "def remove_vowels(input_var):\n",
    "    vowel_list = ['a','e','i','o','u']\n",
    "    input_var = input_var.lower()\n",
    "    input_var = input_var.replace('a', \"\") \n",
    "    input_var = input_var.replace('e', \"\") \n",
    "    input_var = input_var.replace('i', \"\") \n",
    "    input_var = input_var.replace('o', \"\")\n",
    "    input_var = input_var.replace('u', \"\") \n",
    "    return input_var\n",
    "remove_vowels(\"helaelo\")"
   ]
  },
  {
   "cell_type": "markdown",
   "id": "dbb0be1c",
   "metadata": {},
   "source": [
    "10.Define a function named normalize_name. It should accept a string and return a valid python identifier, that is:\n",
    "anything that is not a valid python identifier should be removed\n",
    "leading and trailing whitespace should be removed\n",
    "everything should be lowercase\n",
    "spaces should be replaced with underscores\n",
    "for example:\n",
    "Name will become name\n",
    "First Name will become first_name\n",
    "% Completed will become completed"
   ]
  },
  {
   "cell_type": "code",
   "execution_count": 114,
   "id": "e179103e",
   "metadata": {},
   "outputs": [
    {
     "data": {
      "text/plain": [
       "'first_name_sdkjal'"
      ]
     },
     "execution_count": 114,
     "metadata": {},
     "output_type": "execute_result"
    }
   ],
   "source": [
    "def normalize_name(input_var):\n",
    "    input_var = input_var.lower()\n",
    "    input_var = ''.join(i for i in input_var if i.isalnum() or i == ' ')\n",
    "    input_var = input_var.strip()\n",
    "    input_var = input_var.replace(\" \",\"_\")\n",
    "    return input_var\n",
    "normalize_name(\"First ?name sdkjal  \")"
   ]
  },
  {
   "cell_type": "markdown",
   "id": "f1ead67c",
   "metadata": {},
   "source": [
    "11.Write a function named cumulative_sum that accepts a list of numbers and returns a list that is the cumulative sum of the numbers in the list.\n",
    "cumulative_sum([1, 1, 1]) returns [1, 2, 3]\n",
    "cumulative_sum([1, 2, 3, 4]) returns [1, 3, 6, 10]"
   ]
  },
  {
   "cell_type": "code",
   "execution_count": 106,
   "id": "22f9c111",
   "metadata": {},
   "outputs": [
    {
     "data": {
      "text/plain": [
       "[1, 4, 10, 20]"
      ]
     },
     "execution_count": 106,
     "metadata": {},
     "output_type": "execute_result"
    }
   ],
   "source": [
    "from itertools import accumulate\n",
    "def cumulative_sum(input_list):\n",
    "    return list(accumulate(input_list))\n",
    "cumulative_sum([1, 3, 6, 10])   "
   ]
  },
  {
   "cell_type": "code",
   "execution_count": 117,
   "id": "20a5c622",
   "metadata": {},
   "outputs": [
    {
     "name": "stdout",
     "output_type": "stream",
     "text": [
      "name country\n"
     ]
    }
   ],
   "source": [
    "\n"
   ]
  },
  {
   "cell_type": "code",
   "execution_count": null,
   "id": "975ce1e3",
   "metadata": {},
   "outputs": [],
   "source": []
  },
  {
   "cell_type": "code",
   "execution_count": null,
   "id": "853750c8",
   "metadata": {},
   "outputs": [],
   "source": []
  }
 ],
 "metadata": {
  "kernelspec": {
   "display_name": "Python 3 (ipykernel)",
   "language": "python",
   "name": "python3"
  },
  "language_info": {
   "codemirror_mode": {
    "name": "ipython",
    "version": 3
   },
   "file_extension": ".py",
   "mimetype": "text/x-python",
   "name": "python",
   "nbconvert_exporter": "python",
   "pygments_lexer": "ipython3",
   "version": "3.9.13"
  }
 },
 "nbformat": 4,
 "nbformat_minor": 5
}
