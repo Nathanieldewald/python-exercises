{
 "cells": [
  {
   "cell_type": "markdown",
   "id": "44050cbb",
   "metadata": {},
   "source": [
    "Create a jupyter notebook named import_exercises.ipynb. Use from to import the get_letter_grade function and give it an alias. Test this function in your notebook."
   ]
  },
  {
   "cell_type": "code",
   "execution_count": 1,
   "id": "771c02e2",
   "metadata": {},
   "outputs": [],
   "source": [
    "from function_exercises import get_letter_grade\n"
   ]
  },
  {
   "cell_type": "code",
   "execution_count": 2,
   "id": "30bf950b",
   "metadata": {},
   "outputs": [
    {
     "data": {
      "text/plain": [
       "'C'"
      ]
     },
     "execution_count": 2,
     "metadata": {},
     "output_type": "execute_result"
    }
   ],
   "source": [
    "get_letter_grade(78)"
   ]
  },
  {
   "cell_type": "markdown",
   "id": "d287ca85",
   "metadata": {},
   "source": [
    "Read about and use the itertools module from the python standard library to help you solve the following problems (Hint: wrap the itertools results in a list to see the results)."
   ]
  },
  {
   "cell_type": "markdown",
   "id": "de174210",
   "metadata": {},
   "source": [
    "How many different ways can you combine a single letter from \"abc\" with either 1, 2, or 3?"
   ]
  },
  {
   "cell_type": "code",
   "execution_count": 3,
   "id": "9ffdcd18",
   "metadata": {},
   "outputs": [
    {
     "name": "stdout",
     "output_type": "stream",
     "text": [
      "9\n"
     ]
    }
   ],
   "source": [
    "import itertools\n",
    "\n",
    "\n",
    "letters = \"abc\"\n",
    "numbers = [1, 2, 3]\n",
    "combinations = itertools.product(letters, numbers)\n",
    "count = len(list(combinations))\n",
    "\n",
    "print(count)\n"
   ]
  },
  {
   "cell_type": "markdown",
   "id": "55cd1bba",
   "metadata": {},
   "source": [
    "How many different combinations are there of 2 letters from \"abcd\"?"
   ]
  },
  {
   "cell_type": "code",
   "execution_count": 4,
   "id": "1d4be68c",
   "metadata": {},
   "outputs": [
    {
     "name": "stdout",
     "output_type": "stream",
     "text": [
      "6\n"
     ]
    }
   ],
   "source": [
    "letters= \"abcd\"\n",
    "combinations = itertools.combinations(letters, 2)\n",
    "count = len(list(combinations))\n",
    "print(count)"
   ]
  },
  {
   "cell_type": "markdown",
   "id": "528b7f57",
   "metadata": {},
   "source": [
    "How many different permutations are there of 2 letters from \"abcd\"?\n"
   ]
  },
  {
   "cell_type": "code",
   "execution_count": 5,
   "id": "f6e84a70",
   "metadata": {},
   "outputs": [
    {
     "name": "stdout",
     "output_type": "stream",
     "text": [
      "12\n"
     ]
    }
   ],
   "source": [
    "letters = \"abcd\"\n",
    "permutations = itertools.permutations(letters, 2)\n",
    "count = len(list(permutations))\n",
    "print(count) \n"
   ]
  },
  {
   "cell_type": "code",
   "execution_count": 6,
   "id": "773defb8",
   "metadata": {},
   "outputs": [],
   "source": [
    "import json\n",
    "\n",
    "myjson = json.load(open('profiles.json'))\n",
    "\n"
   ]
  },
  {
   "cell_type": "markdown",
   "id": "dad1e759",
   "metadata": {},
   "source": [
    "Your code should produce a list of dictionaries. Using this data, write some code that calculates and outputs the following information:\n",
    "\n",
    "Total number of users\n",
    "Number of active users\n",
    "Number of inactive users\n",
    "Grand total of balances for all users\n",
    "Average balance per user\n",
    "User with the lowest balance\n",
    "User with the highest balance\n",
    "Most common favorite fruit\n",
    "Least most common favorite fruit\n",
    "Total number of unread messages for all users"
   ]
  },
  {
   "cell_type": "code",
   "execution_count": 7,
   "id": "e645e2f0",
   "metadata": {},
   "outputs": [
    {
     "name": "stdout",
     "output_type": "stream",
     "text": [
      "Total number of users:  19\n"
     ]
    }
   ],
   "source": [
    "count = len(list(myjson))\n",
    "print(\"Total number of users: \",count)\n"
   ]
  },
  {
   "cell_type": "code",
   "execution_count": 8,
   "id": "538b339c",
   "metadata": {},
   "outputs": [
    {
     "name": "stdout",
     "output_type": "stream",
     "text": [
      "9\n"
     ]
    }
   ],
   "source": [
    "myjson_active = len(list(filter(lambda i : i[\"isActive\"] == True, myjson)))\n",
    "print(myjson_active)\n",
    "        "
   ]
  },
  {
   "cell_type": "code",
   "execution_count": 9,
   "id": "bd9ab999",
   "metadata": {},
   "outputs": [
    {
     "name": "stdout",
     "output_type": "stream",
     "text": [
      "10\n"
     ]
    }
   ],
   "source": [
    "myjson_inactive = len(list(filter(lambda i : i[\"isActive\"] == False, myjson)))\n",
    "print(myjson_inactive)"
   ]
  },
  {
   "cell_type": "code",
   "execution_count": 10,
   "id": "70dabfe6",
   "metadata": {},
   "outputs": [
    {
     "name": "stdout",
     "output_type": "stream",
     "text": [
      "52667.02\n"
     ]
    }
   ],
   "source": [
    "total = 0 \n",
    "for item in myjson:\n",
    "    total += float(item[\"balance\"].replace(\"$\", \"\").replace(\",\", \"\"))\n",
    "   \n",
    "print(total)"
   ]
  },
  {
   "cell_type": "code",
   "execution_count": 11,
   "id": "ca2d376e",
   "metadata": {},
   "outputs": [
    {
     "name": "stdout",
     "output_type": "stream",
     "text": [
      "2771.9484210526316\n"
     ]
    }
   ],
   "source": [
    "total = 0 \n",
    "for item in myjson:\n",
    "    total += float(item[\"balance\"].replace(\"$\", \"\").replace(\",\", \"\"))\n",
    "average =  total / count  \n",
    "print(average)"
   ]
  },
  {
   "cell_type": "code",
   "execution_count": 18,
   "id": "3f4ca971",
   "metadata": {},
   "outputs": [],
   "source": [
    "listnew = []\n",
    "for item in myjson:\n",
    "      listnew.append(item[\"balance\"].replace(\"$\", \"\").replace(\",\", \"\"))\n"
   ]
  },
  {
   "cell_type": "code",
   "execution_count": 14,
   "id": "b7937e04",
   "metadata": {
    "scrolled": true
   },
   "outputs": [
    {
     "data": {
      "text/plain": [
       "'1214.10'"
      ]
     },
     "execution_count": 14,
     "metadata": {},
     "output_type": "execute_result"
    }
   ],
   "source": [
    "min(listnew)"
   ]
  },
  {
   "cell_type": "code",
   "execution_count": 19,
   "id": "52e0a26e",
   "metadata": {},
   "outputs": [
    {
     "data": {
      "text/plain": [
       "'3919.64'"
      ]
     },
     "execution_count": 19,
     "metadata": {},
     "output_type": "execute_result"
    }
   ],
   "source": [
    "max(listnew)"
   ]
  },
  {
   "cell_type": "code",
   "execution_count": 20,
   "id": "1af32821",
   "metadata": {},
   "outputs": [],
   "source": [
    "list_fruit= []\n",
    "for item in myjson:\n",
    "    list_fruit.append(item[\"favoriteFruit\"])"
   ]
  },
  {
   "cell_type": "code",
   "execution_count": 44,
   "id": "6029edb0",
   "metadata": {
    "scrolled": true
   },
   "outputs": [],
   "source": [
    "strawberry = 0\n",
    "apple = 0\n",
    "banana = 0\n",
    "fruit_dic = {\"strawberry\": 0, \"apple\": 0, \"banana\": 0}\n",
    "for item in list_fruit:\n",
    "    if item == \"strawberry\":\n",
    "        strawberry = strawberry + 1\n",
    "    if item == \"apple\":\n",
    "        apple = apple + 1\n",
    "    if item == \"banana\":\n",
    "        banana = banana + 1\n",
    "fruit_dic[\"strawberry\"] = strawberry     \n",
    "fruit_dic[\"apple\"] = apple\n",
    "fruit_dic[\"banana\"] = banana\n",
    "leastfavoratefruit = min(fruit_dic.values())\n",
    "mostfavoratefruit = max(fruit_dic.values())\n",
    "res = [i for i in fruit_dic if fruit_dic[i] == leastfavoratefruit]\n",
    "res2 = [i for i in fruit_dic if fruit_dic[i] == mostfavoratefruit]\n",
    "least_fruit = str(res)\n",
    "most_fruit = str(res2)"
   ]
  },
  {
   "cell_type": "code",
   "execution_count": 46,
   "id": "e1226ef8",
   "metadata": {},
   "outputs": [
    {
     "data": {
      "text/plain": [
       "\"['strawberry']\""
      ]
     },
     "execution_count": 46,
     "metadata": {},
     "output_type": "execute_result"
    }
   ],
   "source": [
    "most_fruit"
   ]
  },
  {
   "cell_type": "code",
   "execution_count": 47,
   "id": "ac50fe69",
   "metadata": {
    "scrolled": true
   },
   "outputs": [
    {
     "data": {
      "text/plain": [
       "\"['banana']\""
      ]
     },
     "execution_count": 47,
     "metadata": {},
     "output_type": "execute_result"
    }
   ],
   "source": [
    "least_fruit"
   ]
  },
  {
   "cell_type": "code",
   "execution_count": 77,
   "id": "30d7c738",
   "metadata": {},
   "outputs": [],
   "source": [
    "import re\n",
    "greeting_list = []\n",
    "emails_amounts = []\n",
    "email_num = \"\"\n",
    "for item in myjson:\n",
    "    greeting_list.append(item[\"greeting\"])\n",
    "for a in greeting_list:\n",
    "   for b in a:\n",
    "       if b.isdigit() == True:\n",
    "           email_num += b\n",
    "            \n",
    "            "
   ]
  },
  {
   "cell_type": "code",
   "execution_count": 78,
   "id": "7a32ee9d",
   "metadata": {},
   "outputs": [
    {
     "data": {
      "text/plain": [
       "'419510919131721821371312719516'"
      ]
     },
     "execution_count": 78,
     "metadata": {},
     "output_type": "execute_result"
    }
   ],
   "source": [
    "email_num\n",
    "    "
   ]
  },
  {
   "cell_type": "code",
   "execution_count": 65,
   "id": "25563406",
   "metadata": {
    "scrolled": true
   },
   "outputs": [
    {
     "data": {
      "text/plain": [
       "['Hello, Hebert Estes! You have 4 unread messages.',\n",
       " 'Hello, Allison Wynn! You have 19 unread messages.',\n",
       " 'Hello, Jacobs Floyd! You have 5 unread messages.',\n",
       " 'Hello, Fay Hammond! You have 10 unread messages.',\n",
       " 'Hello, Chasity Marsh! You have 9 unread messages.',\n",
       " 'Hello, Camacho Cortez! You have 19 unread messages.',\n",
       " 'Hello, Avery Flynn! You have 13 unread messages.',\n",
       " 'Hello, Michael Cash! You have 17 unread messages.',\n",
       " 'Hello, Madeleine Bray! You have 2 unread messages.',\n",
       " 'Hello, Corine French! You have 18 unread messages.',\n",
       " 'Hello, Trudy Cummings! You have 2 unread messages.',\n",
       " 'Hello, Peggy Mayer! You have 13 unread messages.',\n",
       " 'Hello, Chan Hurley! You have 7 unread messages.',\n",
       " 'Hello, Diaz Pena! You have 13 unread messages.',\n",
       " 'Hello, Heath Castaneda! You have 12 unread messages.',\n",
       " 'Hello, Greer Blankenship! You have 7 unread messages.',\n",
       " 'Hello, Coffey Hayes! You have 19 unread messages.',\n",
       " 'Hello, Leanne Hurst! You have 5 unread messages.',\n",
       " 'Hello, Ewing Larson! You have 16 unread messages.']"
      ]
     },
     "execution_count": 65,
     "metadata": {},
     "output_type": "execute_result"
    }
   ],
   "source": [
    "greeting_list\n"
   ]
  },
  {
   "cell_type": "code",
   "execution_count": 73,
   "id": "d915b0db",
   "metadata": {},
   "outputs": [],
   "source": [
    "import re\n",
    "numbers_only = []\n",
    "int_numbers_only = []\n",
    "for string in greeting_list:\n",
    "    numbers_only.extend(re.findall(r'\\d+', string))\n",
    "for i in numbers_only:\n",
    "    int_numbers_only.append(int(i))"
   ]
  },
  {
   "cell_type": "code",
   "execution_count": 75,
   "id": "ce529aa8",
   "metadata": {},
   "outputs": [
    {
     "data": {
      "text/plain": [
       "210"
      ]
     },
     "execution_count": 75,
     "metadata": {},
     "output_type": "execute_result"
    }
   ],
   "source": [
    "sum(int_numbers_only)"
   ]
  },
  {
   "cell_type": "code",
   "execution_count": null,
   "id": "4fe231ac",
   "metadata": {},
   "outputs": [],
   "source": []
  }
 ],
 "metadata": {
  "kernelspec": {
   "display_name": "Python 3 (ipykernel)",
   "language": "python",
   "name": "python3"
  },
  "language_info": {
   "codemirror_mode": {
    "name": "ipython",
    "version": 3
   },
   "file_extension": ".py",
   "mimetype": "text/x-python",
   "name": "python",
   "nbconvert_exporter": "python",
   "pygments_lexer": "ipython3",
   "version": "3.9.13"
  }
 },
 "nbformat": 4,
 "nbformat_minor": 5
}
