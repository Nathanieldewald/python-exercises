{
 "cells": [
  {
   "cell_type": "code",
   "execution_count": 2,
   "id": "53f2acf6",
   "metadata": {},
   "outputs": [
    {
     "name": "stdout",
     "output_type": "stream",
     "text": [
      "initiated datasets repo at: /Users/nathanieldewald/.pydataset/\n"
     ]
    }
   ],
   "source": [
    "import pydataset"
   ]
  },
  {
   "cell_type": "code",
   "execution_count": null,
   "id": "b2d56c74",
   "metadata": {},
   "outputs": [],
   "source": [
    "# jupyter shortcut notes \n",
    "#shift + enter\n",
    "#Runs the selected cell; Selects the cell below"
   ]
  },
  {
   "cell_type": "code",
   "execution_count": null,
   "id": "dd0a9a59",
   "metadata": {},
   "outputs": [],
   "source": [
    "#Shift + Click Cell\n",
    "#Highlights the range of cells between the one that was selected, \n",
    "#and the one that you clicked...just like Shift-Clicking a series of files"
   ]
  },
  {
   "cell_type": "code",
   "execution_count": null,
   "id": "f88f24d6",
   "metadata": {},
   "outputs": [],
   "source": [
    "#D D (the 'D' key twice)\n",
    "#Deletes the currently selected cell(s)"
   ]
  }
 ],
 "metadata": {
  "kernelspec": {
   "display_name": "Python 3 (ipykernel)",
   "language": "python",
   "name": "python3"
  },
  "language_info": {
   "codemirror_mode": {
    "name": "ipython",
    "version": 3
   },
   "file_extension": ".py",
   "mimetype": "text/x-python",
   "name": "python",
   "nbconvert_exporter": "python",
   "pygments_lexer": "ipython3",
   "version": "3.9.13"
  }
 },
 "nbformat": 4,
 "nbformat_minor": 5
}
