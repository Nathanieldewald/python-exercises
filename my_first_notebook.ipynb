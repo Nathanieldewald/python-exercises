{
 "cells": [
  {
   "cell_type": "code",
   "execution_count": 2,
   "id": "53f2acf6",
   "metadata": {},
   "outputs": [
    {
     "name": "stdout",
     "output_type": "stream",
     "text": [
      "initiated datasets repo at: /Users/nathanieldewald/.pydataset/\n"
     ]
    }
   ],
   "source": [
    "import pydataset"
   ]
  },
  {
   "cell_type": "code",
   "execution_count": null,
   "id": "5b666c0f",
   "metadata": {},
   "outputs": [],
   "source": [
    "# jupyter shortcut notes \n",
    "#shift + enter\n",
    "#Runs the selected cell; Selects the cell below"
   ]
  },
  {
   "cell_type": "code",
   "execution_count": null,
   "id": "f00b4882",
   "metadata": {},
   "outputs": [],
   "source": [
    "#Shift + Click Cell\n",
    "#Highlights the range of cells between the one that was selected, \n",
    "#and the one that you clicked...just like Shift-Clicking a series of files"
   ]
  },
  {
   "cell_type": "code",
   "execution_count": null,
   "id": "258ade16",
   "metadata": {},
   "outputs": [],
   "source": [
    "#D D (the 'D' key twice)\n",
    "#Deletes the currently selected cell(s)"
   ]
  },
  {
   "cell_type": "code",
   "execution_count": 3,
   "id": "bae61aa0",
   "metadata": {},
   "outputs": [
    {
     "name": "stdout",
     "output_type": "stream",
     "text": [
      "hello world\n"
     ]
    }
   ],
   "source": [
    "print(\"hello world\")"
   ]
  },
  {
   "cell_type": "code",
   "execution_count": 5,
   "id": "948b53e5",
   "metadata": {},
   "outputs": [
    {
     "name": "stdout",
     "output_type": "stream",
     "text": [
      "Lets learn some python\n"
     ]
    }
   ],
   "source": [
    "print(\"Lets learn some python\")"
   ]
  },
  {
   "cell_type": "code",
   "execution_count": 6,
   "id": "e280b9b0",
   "metadata": {},
   "outputs": [
    {
     "name": "stdout",
     "output_type": "stream",
     "text": [
      "2\n"
     ]
    }
   ],
   "source": [
    "print(1 + 1)"
   ]
  },
  {
   "cell_type": "code",
   "execution_count": null,
   "id": "13e8b73e",
   "metadata": {},
   "outputs": [],
   "source": []
  }
 ],
 "metadata": {
  "kernelspec": {
   "display_name": "Python 3 (ipykernel)",
   "language": "python",
   "name": "python3"
  },
  "language_info": {
   "codemirror_mode": {
    "name": "ipython",
    "version": 3
   },
   "file_extension": ".py",
   "mimetype": "text/x-python",
   "name": "python",
   "nbconvert_exporter": "python",
   "pygments_lexer": "ipython3",
   "version": "3.9.13"
  }
 },
 "nbformat": 4,
 "nbformat_minor": 5
}
