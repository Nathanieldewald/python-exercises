{
 "cells": [
  {
   "cell_type": "markdown",
   "id": "afdbebc5",
   "metadata": {},
   "source": [
    "1.Conditional Basics\n",
    "\n",
    "Prompt the user for a day of the week, print out whether the day is Monday or not\n",
    "\n",
    "Prompt the user for a day of the week, print out whether the day is a weekday or a weekend\n",
    "\n",
    "Calculate a weekly paycheck, accounting for overtime pay. Create variables and make up values for:\n",
    "\n",
    "The number of hours worked in one week\n",
    "The hourly rate\n",
    "For calculating pay:\n",
    "\n",
    "For working 40 hours or less, each hour is paid at the hourly rate\n",
    "For working more than 40 hours\n",
    "\n",
    "the first 40 hours are paid at the hourly rate\n",
    "\n",
    "each hour after 40 is paid at time and a half (hourly rate * 1.5)"
   ]
  },
  {
   "cell_type": "code",
   "execution_count": 34,
   "id": "ca8f45de",
   "metadata": {
    "scrolled": true
   },
   "outputs": [
    {
     "name": "stdout",
     "output_type": "stream",
     "text": [
      "Please enter day of the week.\n",
      "monday\n",
      "Today is a weekday\n",
      "Please enter hours worked\n",
      "41\n",
      "Please enter hourly rate\n",
      "40\n",
      "1660.0\n"
     ]
    }
   ],
   "source": [
    "day_of_week = input(\"Please enter day of the week.\\n\")\n",
    "weekend_or_not = day_of_week == 'saturday' or day_of_week == 'sunday'\n",
    "\n",
    "if weekend_or_not == False:\n",
    "    print(\"Today is a weekday\")\n",
    "else:\n",
    "    print(\"Today is a weekend\")\n",
    "hours_worked = float(input(\"Please enter hours worked\\n\"))\n",
    "\n",
    "hourly_rate = float(input(\"Please enter hourly rate\\n\"))\n",
    "overtime_hourly_rate = hourly_rate * 1.5\n",
    "over_time_hours = 0\n",
    "hours_upto_40 = 0\n",
    "\n",
    "if hours_worked > 40:\n",
    "    hours_upto_40 = 40\n",
    "else: \n",
    "    hours_upto_40 = hours_worked   \n",
    "if hours_worked > 40:\n",
    "    over_time_hours = hours_worked - 40\n",
    "paycheck_amount = (hours_upto_40 * hourly_rate) + (over_time_hours * overtime_hourly_rate)\n",
    "print(paycheck_amount)"
   ]
  },
  {
   "cell_type": "markdown",
   "id": "8a762875",
   "metadata": {},
   "source": [
    "2.a.While\n",
    "\n",
    "Create an integer variable i with a value of 5. \n",
    "Create a while loop that runs so long as i is less than or equal to 15. Each loop iteration, \n",
    "output the current value of i, then increment i by one."
   ]
  },
  {
   "cell_type": "code",
   "execution_count": 38,
   "id": "d263880d",
   "metadata": {},
   "outputs": [
    {
     "name": "stdout",
     "output_type": "stream",
     "text": [
      "5\n",
      "6\n",
      "7\n",
      "8\n",
      "9\n",
      "10\n",
      "11\n",
      "12\n",
      "13\n",
      "14\n",
      "15\n"
     ]
    }
   ],
   "source": [
    "i = 5\n",
    "while i <= 15:\n",
    "    print(i)\n",
    "    i = i + 1"
   ]
  },
  {
   "cell_type": "markdown",
   "id": "794bd600",
   "metadata": {},
   "source": [
    "2.a.i.Create a while loop that will count by 2's starting with 0 and ending at 100. \n",
    "Follow each number with a new line."
   ]
  },
  {
   "cell_type": "code",
   "execution_count": 40,
   "id": "5fdff4d4",
   "metadata": {},
   "outputs": [
    {
     "name": "stdout",
     "output_type": "stream",
     "text": [
      "0\n",
      "2\n",
      "4\n",
      "6\n",
      "8\n",
      "10\n",
      "12\n",
      "14\n",
      "16\n",
      "18\n",
      "20\n",
      "22\n",
      "24\n",
      "26\n",
      "28\n",
      "30\n",
      "32\n",
      "34\n",
      "36\n",
      "38\n",
      "40\n",
      "42\n",
      "44\n",
      "46\n",
      "48\n",
      "50\n",
      "52\n",
      "54\n",
      "56\n",
      "58\n",
      "60\n",
      "62\n",
      "64\n",
      "66\n",
      "68\n",
      "70\n",
      "72\n",
      "74\n",
      "76\n",
      "78\n",
      "80\n",
      "82\n",
      "84\n",
      "86\n",
      "88\n",
      "90\n",
      "92\n",
      "94\n",
      "96\n",
      "98\n",
      "100\n"
     ]
    }
   ],
   "source": [
    "i = 0\n",
    "while i <= 100:\n",
    "    print(i)\n",
    "    i = i + 2"
   ]
  },
  {
   "cell_type": "markdown",
   "id": "03fdeada",
   "metadata": {},
   "source": [
    "2.a.ii.Create a while loop that starts at 2, \n",
    "and displays the number squared on each line \n",
    "while the number is less than 1,000,000. Output should equal:"
   ]
  },
  {
   "cell_type": "code",
   "execution_count": 45,
   "id": "de204464",
   "metadata": {},
   "outputs": [
    {
     "name": "stdout",
     "output_type": "stream",
     "text": [
      "2\n",
      "4\n",
      "16\n",
      "256\n",
      "65536\n"
     ]
    }
   ],
   "source": [
    "i = 2\n",
    "while i <= 1000000:\n",
    "    print(i)\n",
    "    i = i * i"
   ]
  },
  {
   "cell_type": "markdown",
   "id": "f870f48a",
   "metadata": {},
   "source": [
    "Write a while loop that uses print to create the output shown below.\n"
   ]
  },
  {
   "cell_type": "code",
   "execution_count": 50,
   "id": "b14b46d3",
   "metadata": {},
   "outputs": [
    {
     "name": "stdout",
     "output_type": "stream",
     "text": [
      "100\n",
      "95\n",
      "90\n",
      "85\n",
      "80\n",
      "75\n",
      "70\n",
      "65\n",
      "60\n",
      "55\n",
      "50\n",
      "45\n",
      "40\n",
      "35\n",
      "30\n",
      "25\n",
      "20\n",
      "15\n",
      "10\n",
      "5\n",
      "0\n"
     ]
    }
   ],
   "source": [
    "i = 100\n",
    "while i >= 0:\n",
    "    print(i)\n",
    "    i = i - 5\n",
    "    "
   ]
  },
  {
   "cell_type": "markdown",
   "id": "a6d30362",
   "metadata": {},
   "source": [
    "For Loops\n",
    "\n",
    "Write some code using a for loop that prompts the user for a number, \n",
    "then shows a multiplication table up through 10 for that number.\n",
    "\n",
    "For example, if the user enters 7, your program should output:"
   ]
  },
  {
   "cell_type": "code",
   "execution_count": 62,
   "id": "04c2aad8",
   "metadata": {},
   "outputs": [
    {
     "name": "stdout",
     "output_type": "stream",
     "text": [
      "Please input a number\n",
      "2\n",
      "1 x 2 = 2\n",
      "2 x 2 = 4\n",
      "3 x 2 = 6\n",
      "4 x 2 = 8\n",
      "5 x 2 = 10\n",
      "6 x 2 = 12\n",
      "7 x 2 = 14\n",
      "8 x 2 = 16\n",
      "9 x 2 = 18\n",
      "10 x 2 = 20\n"
     ]
    }
   ],
   "source": [
    "n = int(input(\"Please input a number\\n\"))\n",
    "for i in range(1,11):\n",
    "    print(i, \"x\", n, \"=\",(i * n))"
   ]
  },
  {
   "cell_type": "markdown",
   "id": "2878dc88",
   "metadata": {},
   "source": [
    "Create a for loop that uses print to create the output shown below1\n",
    "22\n",
    "333\n",
    "4444\n",
    "55555\n",
    "666666\n",
    "7777777\n",
    "88888888\n",
    "999999999\n",
    "\n"
   ]
  },
  {
   "cell_type": "code",
   "execution_count": 65,
   "id": "31154364",
   "metadata": {},
   "outputs": [
    {
     "name": "stdout",
     "output_type": "stream",
     "text": [
      "1\n",
      "22\n",
      "333\n",
      "4444\n",
      "55555\n",
      "666666\n",
      "7777777\n",
      "88888888\n",
      "999999999\n"
     ]
    }
   ],
   "source": [
    "i = 1 \n",
    "for i in range(1,10):\n",
    "    print(str(i)* i)"
   ]
  },
  {
   "cell_type": "markdown",
   "id": "4aad54c3",
   "metadata": {},
   "source": [
    "write a program that prompts the user for a positive integer. \n",
    "Next write a loop that prints out the numbers from the number the user entered down to 1."
   ]
  },
  {
   "cell_type": "code",
   "execution_count": 78,
   "id": "7495a4bb",
   "metadata": {},
   "outputs": [
    {
     "name": "stdout",
     "output_type": "stream",
     "text": [
      "Please input a number\n",
      "2\n",
      "1\n"
     ]
    }
   ],
   "source": [
    "pos_int = int(input(\"Please input a number\\n\"))\n",
    "n = 0 \n",
    "for i in range(1, 100):\n",
    "    n = (pos_int - i)\n",
    "    if n < 1:\n",
    "        break\n",
    "    print(n)"
   ]
  },
  {
   "cell_type": "markdown",
   "id": "4f3d2297",
   "metadata": {},
   "source": [
    "The input function can be used to prompt for input and use that input in your python code. Prompt the user to enter a positive number and write a loop that counts from 0 to that number. (Hints: note that the input function returns a string, so you'll need to convert this to a numeric type.)"
   ]
  },
  {
   "cell_type": "code",
   "execution_count": 82,
   "id": "3e90a8cd",
   "metadata": {},
   "outputs": [
    {
     "name": "stdout",
     "output_type": "stream",
     "text": [
      "Please input a number\n",
      "10\n",
      "1\n",
      "2\n",
      "3\n",
      "4\n",
      "5\n",
      "6\n",
      "7\n",
      "8\n",
      "9\n",
      "10\n"
     ]
    }
   ],
   "source": [
    "pos_int = int(input(\"Please input a number\\n\"))\n",
    "\n",
    "for i in range(1, 100): \n",
    "    if i > pos_int:\n",
    "        break\n",
    "    print(i)"
   ]
  },
  {
   "cell_type": "markdown",
   "id": "96b84bf8",
   "metadata": {},
   "source": [
    "Prompt the user for an odd number between 1 and 50. Use a loop and a break statement to continue prompting the user if they enter invalid input. (Hint: use the isdigit method on strings to determine this). Use a loop and the continue statement to output all the odd numbers between 1 and 50, except for the number the user entered.\n",
    "\n"
   ]
  },
  {
   "cell_type": "code",
   "execution_count": 90,
   "id": "655926e7",
   "metadata": {},
   "outputs": [
    {
     "name": "stdout",
     "output_type": "stream",
     "text": [
      "please enter odd number from 0-50\n",
      "11\n",
      "Here is an odd number:  1\n",
      "Here is an odd number:  2\n",
      "Here is an odd number:  3\n",
      "Here is an odd number:  4\n",
      "Here is an odd number:  5\n",
      "Here is an odd number:  6\n",
      "Here is an odd number:  7\n",
      "Here is an odd number:  8\n",
      "Here is an odd number:  9\n",
      "Here is an odd number:  10\n",
      "Yikes! Skipping number:  11\n",
      "Here is an odd number:  12\n",
      "Here is an odd number:  13\n",
      "Here is an odd number:  14\n",
      "Here is an odd number:  15\n",
      "Here is an odd number:  16\n",
      "Here is an odd number:  17\n",
      "Here is an odd number:  18\n",
      "Here is an odd number:  19\n",
      "Here is an odd number:  20\n",
      "Here is an odd number:  21\n",
      "Here is an odd number:  22\n",
      "Here is an odd number:  23\n",
      "Here is an odd number:  24\n",
      "Here is an odd number:  25\n",
      "Here is an odd number:  26\n",
      "Here is an odd number:  27\n",
      "Here is an odd number:  28\n",
      "Here is an odd number:  29\n",
      "Here is an odd number:  30\n",
      "Here is an odd number:  31\n",
      "Here is an odd number:  32\n",
      "Here is an odd number:  33\n",
      "Here is an odd number:  34\n",
      "Here is an odd number:  35\n",
      "Here is an odd number:  36\n",
      "Here is an odd number:  37\n",
      "Here is an odd number:  38\n",
      "Here is an odd number:  39\n",
      "Here is an odd number:  40\n",
      "Here is an odd number:  41\n",
      "Here is an odd number:  42\n",
      "Here is an odd number:  43\n",
      "Here is an odd number:  44\n",
      "Here is an odd number:  45\n",
      "Here is an odd number:  46\n",
      "Here is an odd number:  47\n",
      "Here is an odd number:  48\n",
      "Here is an odd number:  49\n"
     ]
    }
   ],
   "source": [
    "skip_numb = int(input(\"please enter odd number from 0-50\\n\"))\n",
    "\n",
    "for i in range(1,50):\n",
    "    if i % 2 and i == skip_numb :\n",
    "        print(\"Yikes! Skipping number: \", i)\n",
    "    else:\n",
    "        print(\"Here is an odd number: \", i)\n"
   ]
  },
  {
   "cell_type": "markdown",
   "id": "ed30bd72",
   "metadata": {},
   "source": [
    "Fizzbuzz\n",
    "\n",
    "One of the most common interview questions for entry-level programmers is the FizzBuzz test. Developed by Imran Ghory, the test is designed to test basic looping and conditional logic skills.\n",
    "\n",
    "Write a program that prints the numbers from 1 to 100.\n",
    "For multiples of three print \"Fizz\" instead of the number\n",
    "For the multiples of five print \"Buzz\".\n",
    "For numbers which are multiples of both three and five print \"FizzBuzz\"."
   ]
  },
  {
   "cell_type": "code",
   "execution_count": null,
   "id": "1431a953",
   "metadata": {},
   "outputs": [],
   "source": []
  },
  {
   "cell_type": "markdown",
   "id": "b19da5a8",
   "metadata": {},
   "source": [
    "Display a table of powers.\n",
    "\n",
    "Prompt the user to enter an integer\n",
    "Display a table of squares and cubes from 1 to the value entered\n",
    "Ask if the user wants to continue\n",
    "Assume that the user will enter valid data\n",
    "Only continue if the user agrees to\n"
   ]
  },
  {
   "cell_type": "code",
   "execution_count": null,
   "id": "9f04bfc1",
   "metadata": {},
   "outputs": [],
   "source": []
  },
  {
   "cell_type": "markdown",
   "id": "75f23870",
   "metadata": {},
   "source": [
    "Convert given number grades into letter grades.\n",
    "\n",
    "Prompt the user for a numerical grade from 0 to 100\n",
    "Display the corresponding letter grade\n",
    "Prompt the user to continue\n",
    "Assume that the user will enter valid integers for the grades\n",
    "The application should only continue if the user agrees to\n",
    "Grade Ranges:\n",
    "\n",
    "A : 100 - 88\n",
    "B : 87 - 80\n",
    "C : 79 - 67\n",
    "D : 66 - 60\n",
    "F : 59 - 0"
   ]
  },
  {
   "cell_type": "code",
   "execution_count": null,
   "id": "0ea4aaff",
   "metadata": {},
   "outputs": [],
   "source": []
  },
  {
   "cell_type": "markdown",
   "id": "bf84231e",
   "metadata": {},
   "source": [
    "Create a list of dictionaries where each dictionary represents a book that you have read. Each dictionary in the list should have the keys title, author, and genre. Loop through the list and print out information about each book.\n",
    "\n",
    "Prompt the user to enter a genre, then loop through your books list and print out the titles of all the books in that genre.\n"
   ]
  },
  {
   "cell_type": "code",
   "execution_count": null,
   "id": "0e289cad",
   "metadata": {},
   "outputs": [],
   "source": []
  }
 ],
 "metadata": {
  "kernelspec": {
   "display_name": "Python 3 (ipykernel)",
   "language": "python",
   "name": "python3"
  },
  "language_info": {
   "codemirror_mode": {
    "name": "ipython",
    "version": 3
   },
   "file_extension": ".py",
   "mimetype": "text/x-python",
   "name": "python",
   "nbconvert_exporter": "python",
   "pygments_lexer": "ipython3",
   "version": "3.9.13"
  }
 },
 "nbformat": 4,
 "nbformat_minor": 5
}
