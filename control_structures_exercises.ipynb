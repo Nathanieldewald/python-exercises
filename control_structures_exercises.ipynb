{
 "cells": [
  {
   "cell_type": "markdown",
   "id": "3ad4e4af",
   "metadata": {},
   "source": [
    "1.Conditional Basics\n",
    "\n",
    "Prompt the user for a day of the week, print out whether the day is Monday or not\n",
    "\n",
    "Prompt the user for a day of the week, print out whether the day is a weekday or a weekend\n",
    "\n",
    "Calculate a weekly paycheck, accounting for overtime pay. Create variables and make up values for:\n",
    "\n",
    "The number of hours worked in one week\n",
    "The hourly rate\n",
    "For calculating pay:\n",
    "\n",
    "For working 40 hours or less, each hour is paid at the hourly rate\n",
    "For working more than 40 hours\n",
    "\n",
    "the first 40 hours are paid at the hourly rate\n",
    "\n",
    "each hour after 40 is paid at time and a half (hourly rate * 1.5)"
   ]
  },
  {
   "cell_type": "code",
   "execution_count": 34,
   "id": "36f1b692",
   "metadata": {
    "scrolled": true
   },
   "outputs": [
    {
     "name": "stdout",
     "output_type": "stream",
     "text": [
      "Please enter day of the week.\n",
      "monday\n",
      "Today is a weekday\n",
      "Please enter hours worked\n",
      "41\n",
      "Please enter hourly rate\n",
      "40\n",
      "1660.0\n"
     ]
    }
   ],
   "source": [
    "day_of_week = input(\"Please enter day of the week.\\n\")\n",
    "weekend_or_not = day_of_week == 'saturday' or day_of_week == 'sunday'\n",
    "\n",
    "if weekend_or_not == False:\n",
    "    print(\"Today is a weekday\")\n",
    "else:\n",
    "    print(\"Today is a weekend\")\n",
    "hours_worked = float(input(\"Please enter hours worked\\n\"))\n",
    "\n",
    "hourly_rate = float(input(\"Please enter hourly rate\\n\"))\n",
    "overtime_hourly_rate = hourly_rate * 1.5\n",
    "over_time_hours = 0\n",
    "hours_upto_40 = 0\n",
    "\n",
    "if hours_worked > 40:\n",
    "    hours_upto_40 = 40\n",
    "else: \n",
    "    hours_upto_40 = hours_worked   \n",
    "if hours_worked > 40:\n",
    "    over_time_hours = hours_worked - 40\n",
    "paycheck_amount = (hours_upto_40 * hourly_rate) + (over_time_hours * overtime_hourly_rate)\n",
    "print(paycheck_amount)"
   ]
  },
  {
   "cell_type": "markdown",
   "id": "ada5f2be",
   "metadata": {},
   "source": [
    "2.a.While\n",
    "\n",
    "Create an integer variable i with a value of 5. \n",
    "Create a while loop that runs so long as i is less than or equal to 15. Each loop iteration, \n",
    "output the current value of i, then increment i by one."
   ]
  },
  {
   "cell_type": "code",
   "execution_count": 38,
   "id": "8d057e30",
   "metadata": {},
   "outputs": [
    {
     "name": "stdout",
     "output_type": "stream",
     "text": [
      "5\n",
      "6\n",
      "7\n",
      "8\n",
      "9\n",
      "10\n",
      "11\n",
      "12\n",
      "13\n",
      "14\n",
      "15\n"
     ]
    }
   ],
   "source": [
    "i = 5\n",
    "while i <= 15:\n",
    "    print(i)\n",
    "    i = i + 1"
   ]
  },
  {
   "cell_type": "markdown",
   "id": "25ca1c3c",
   "metadata": {},
   "source": [
    "2.a.i.Create a while loop that will count by 2's starting with 0 and ending at 100. \n",
    "Follow each number with a new line."
   ]
  },
  {
   "cell_type": "code",
   "execution_count": 40,
   "id": "88ba2d5b",
   "metadata": {},
   "outputs": [
    {
     "name": "stdout",
     "output_type": "stream",
     "text": [
      "0\n",
      "2\n",
      "4\n",
      "6\n",
      "8\n",
      "10\n",
      "12\n",
      "14\n",
      "16\n",
      "18\n",
      "20\n",
      "22\n",
      "24\n",
      "26\n",
      "28\n",
      "30\n",
      "32\n",
      "34\n",
      "36\n",
      "38\n",
      "40\n",
      "42\n",
      "44\n",
      "46\n",
      "48\n",
      "50\n",
      "52\n",
      "54\n",
      "56\n",
      "58\n",
      "60\n",
      "62\n",
      "64\n",
      "66\n",
      "68\n",
      "70\n",
      "72\n",
      "74\n",
      "76\n",
      "78\n",
      "80\n",
      "82\n",
      "84\n",
      "86\n",
      "88\n",
      "90\n",
      "92\n",
      "94\n",
      "96\n",
      "98\n",
      "100\n"
     ]
    }
   ],
   "source": [
    "i = 0\n",
    "while i <= 100:\n",
    "    print(i)\n",
    "    i = i + 2"
   ]
  },
  {
   "cell_type": "markdown",
   "id": "4e593c50",
   "metadata": {},
   "source": [
    "2.a.ii.Create a while loop that starts at 2, \n",
    "and displays the number squared on each line \n",
    "while the number is less than 1,000,000. Output should equal:"
   ]
  },
  {
   "cell_type": "code",
   "execution_count": 45,
   "id": "a85f95dd",
   "metadata": {},
   "outputs": [
    {
     "name": "stdout",
     "output_type": "stream",
     "text": [
      "2\n",
      "4\n",
      "16\n",
      "256\n",
      "65536\n"
     ]
    }
   ],
   "source": [
    "i = 2\n",
    "while i <= 1000000:\n",
    "    print(i)\n",
    "    i = i * i"
   ]
  },
  {
   "cell_type": "markdown",
   "id": "358af412",
   "metadata": {},
   "source": [
    "Write a while loop that uses print to create the output shown below.\n"
   ]
  },
  {
   "cell_type": "code",
   "execution_count": 50,
   "id": "b7131c73",
   "metadata": {},
   "outputs": [
    {
     "name": "stdout",
     "output_type": "stream",
     "text": [
      "100\n",
      "95\n",
      "90\n",
      "85\n",
      "80\n",
      "75\n",
      "70\n",
      "65\n",
      "60\n",
      "55\n",
      "50\n",
      "45\n",
      "40\n",
      "35\n",
      "30\n",
      "25\n",
      "20\n",
      "15\n",
      "10\n",
      "5\n",
      "0\n"
     ]
    }
   ],
   "source": [
    "i = 100\n",
    "while i >= 0:\n",
    "    print(i)\n",
    "    i = i - 5\n",
    "    "
   ]
  },
  {
   "cell_type": "markdown",
   "id": "f1a34484",
   "metadata": {},
   "source": [
    "For Loops\n",
    "\n",
    "Write some code using a for loop that prompts the user for a number, \n",
    "then shows a multiplication table up through 10 for that number.\n",
    "\n",
    "For example, if the user enters 7, your program should output:"
   ]
  },
  {
   "cell_type": "code",
   "execution_count": 62,
   "id": "873429bf",
   "metadata": {},
   "outputs": [
    {
     "name": "stdout",
     "output_type": "stream",
     "text": [
      "Please input a number\n",
      "2\n",
      "1 x 2 = 2\n",
      "2 x 2 = 4\n",
      "3 x 2 = 6\n",
      "4 x 2 = 8\n",
      "5 x 2 = 10\n",
      "6 x 2 = 12\n",
      "7 x 2 = 14\n",
      "8 x 2 = 16\n",
      "9 x 2 = 18\n",
      "10 x 2 = 20\n"
     ]
    }
   ],
   "source": [
    "n = int(input(\"Please input a number\\n\"))\n",
    "for i in range(1,11):\n",
    "    print(i, \"x\", n, \"=\",(i * n))"
   ]
  },
  {
   "cell_type": "markdown",
   "id": "a91e38a3",
   "metadata": {},
   "source": [
    "Create a for loop that uses print to create the output shown below1\n",
    "22\n",
    "333\n",
    "4444\n",
    "55555\n",
    "666666\n",
    "7777777\n",
    "88888888\n",
    "999999999\n",
    "\n"
   ]
  },
  {
   "cell_type": "code",
   "execution_count": 65,
   "id": "b930598f",
   "metadata": {},
   "outputs": [
    {
     "name": "stdout",
     "output_type": "stream",
     "text": [
      "1\n",
      "22\n",
      "333\n",
      "4444\n",
      "55555\n",
      "666666\n",
      "7777777\n",
      "88888888\n",
      "999999999\n"
     ]
    }
   ],
   "source": [
    "i = 1 \n",
    "for i in range(1,10):\n",
    "    print(str(i)* i)"
   ]
  },
  {
   "cell_type": "markdown",
   "id": "3165470c",
   "metadata": {},
   "source": [
    "write a program that prompts the user for a positive integer. \n",
    "Next write a loop that prints out the numbers from the number the user entered down to 1."
   ]
  },
  {
   "cell_type": "code",
   "execution_count": 78,
   "id": "ceacfede",
   "metadata": {},
   "outputs": [
    {
     "name": "stdout",
     "output_type": "stream",
     "text": [
      "Please input a number\n",
      "2\n",
      "1\n"
     ]
    }
   ],
   "source": [
    "pos_int = int(input(\"Please input a number\\n\"))\n",
    "n = 0 \n",
    "for i in range(1, 100):\n",
    "    n = (pos_int - i)\n",
    "    if n < 1:\n",
    "        break\n",
    "    print(n)"
   ]
  },
  {
   "cell_type": "markdown",
   "id": "9454d786",
   "metadata": {},
   "source": [
    "The input function can be used to prompt for input and use that input in your python code. Prompt the user to enter a positive number and write a loop that counts from 0 to that number. (Hints: note that the input function returns a string, so you'll need to convert this to a numeric type.)"
   ]
  },
  {
   "cell_type": "code",
   "execution_count": 82,
   "id": "b5005fe9",
   "metadata": {},
   "outputs": [
    {
     "name": "stdout",
     "output_type": "stream",
     "text": [
      "Please input a number\n",
      "10\n",
      "1\n",
      "2\n",
      "3\n",
      "4\n",
      "5\n",
      "6\n",
      "7\n",
      "8\n",
      "9\n",
      "10\n"
     ]
    }
   ],
   "source": [
    "pos_int = int(input(\"Please input a number\\n\"))\n",
    "\n",
    "for i in range(1, 100): \n",
    "    if i > pos_int:\n",
    "        break\n",
    "    print(i)"
   ]
  },
  {
   "cell_type": "markdown",
   "id": "a57febbb",
   "metadata": {},
   "source": [
    "Prompt the user for an odd number between 1 and 50. Use a loop and a break statement to continue prompting the user if they enter invalid input. (Hint: use the isdigit method on strings to determine this). Use a loop and the continue statement to output all the odd numbers between 1 and 50, except for the number the user entered.\n",
    "\n"
   ]
  },
  {
   "cell_type": "code",
   "execution_count": 95,
   "id": "9c20ec43",
   "metadata": {},
   "outputs": [
    {
     "ename": "SyntaxError",
     "evalue": "invalid syntax (2732795070.py, line 3)",
     "output_type": "error",
     "traceback": [
      "\u001b[0;36m  Input \u001b[0;32mIn [95]\u001b[0;36m\u001b[0m\n\u001b[0;31m    if skip_numb.isdigit() == False:\u001b[0m\n\u001b[0m                                   ^\u001b[0m\n\u001b[0;31mSyntaxError\u001b[0m\u001b[0;31m:\u001b[0m invalid syntax\n"
     ]
    }
   ],
   "source": [
    "while True:\n",
    "    skip_numb =(input(\"please enter odd number from 0-50\\n\")\n",
    "    if skip_numb.isdigit() == False:\n",
    "        print(\"invalid entry try again\")\n",
    "        continue\n",
    "    for i in range(1,50):\n",
    "        if i % 2 and i == skip_numb :\n",
    "            print(\"Yikes! Skipping number: \", i)\n",
    "        elif i % 2:\n",
    "            print(\"Here is an odd number: \", i)\n"
   ]
  },
  {
   "cell_type": "markdown",
   "id": "2ea629f7",
   "metadata": {},
   "source": [
    "Fizzbuzz\n",
    "\n",
    "One of the most common interview questions for entry-level programmers is the FizzBuzz test. Developed by Imran Ghory, the test is designed to test basic looping and conditional logic skills.\n",
    "\n",
    "Write a program that prints the numbers from 1 to 100.\n",
    "For multiples of three print \"Fizz\" instead of the number\n",
    "For the multiples of five print \"Buzz\".\n",
    "For numbers which are multiples of both three and five print \"FizzBuzz\"."
   ]
  },
  {
   "cell_type": "code",
   "execution_count": 96,
   "id": "20149512",
   "metadata": {},
   "outputs": [
    {
     "name": "stdout",
     "output_type": "stream",
     "text": [
      "1\n",
      "2\n",
      "Fizz\n",
      "4\n",
      "Buzz\n",
      "Fizz\n",
      "7\n",
      "8\n",
      "Fizz\n",
      "Buzz\n",
      "11\n",
      "Fizz\n",
      "13\n",
      "14\n",
      "FizzBuzz\n",
      "16\n",
      "17\n",
      "Fizz\n",
      "19\n",
      "Buzz\n",
      "Fizz\n",
      "22\n",
      "23\n",
      "Fizz\n",
      "Buzz\n",
      "26\n",
      "Fizz\n",
      "28\n",
      "29\n",
      "FizzBuzz\n",
      "31\n",
      "32\n",
      "Fizz\n",
      "34\n",
      "Buzz\n",
      "Fizz\n",
      "37\n",
      "38\n",
      "Fizz\n",
      "Buzz\n",
      "41\n",
      "Fizz\n",
      "43\n",
      "44\n",
      "FizzBuzz\n",
      "46\n",
      "47\n",
      "Fizz\n",
      "49\n",
      "Buzz\n",
      "Fizz\n",
      "52\n",
      "53\n",
      "Fizz\n",
      "Buzz\n",
      "56\n",
      "Fizz\n",
      "58\n",
      "59\n",
      "FizzBuzz\n",
      "61\n",
      "62\n",
      "Fizz\n",
      "64\n",
      "Buzz\n",
      "Fizz\n",
      "67\n",
      "68\n",
      "Fizz\n",
      "Buzz\n",
      "71\n",
      "Fizz\n",
      "73\n",
      "74\n",
      "FizzBuzz\n",
      "76\n",
      "77\n",
      "Fizz\n",
      "79\n",
      "Buzz\n",
      "Fizz\n",
      "82\n",
      "83\n",
      "Fizz\n",
      "Buzz\n",
      "86\n",
      "Fizz\n",
      "88\n",
      "89\n",
      "FizzBuzz\n",
      "91\n",
      "92\n",
      "Fizz\n",
      "94\n",
      "Buzz\n",
      "Fizz\n",
      "97\n",
      "98\n",
      "Fizz\n",
      "Buzz\n"
     ]
    }
   ],
   "source": [
    "for i in range(1,101):\n",
    "    if i % 15 == 0:\n",
    "        print(\"FizzBuzz\")\n",
    "        continue\n",
    "    if i % 3 == 0:\n",
    "        print(\"Fizz\")\n",
    "        continue\n",
    "    if i % 5 == 0:\n",
    "        print(\"Buzz\")\n",
    "        continue\n",
    "    else: \n",
    "        print(i)"
   ]
  },
  {
   "cell_type": "markdown",
   "id": "fa60f2ea",
   "metadata": {},
   "source": [
    "Display a table of powers.\n",
    "\n",
    "Prompt the user to enter an integer\n",
    "Display a table of squares and cubes from 1 to the value entered\n",
    "Ask if the user wants to continue\n",
    "Assume that the user will enter valid data\n",
    "Only continue if the user agrees to\n"
   ]
  },
  {
   "cell_type": "code",
   "execution_count": 97,
   "id": "c1791001",
   "metadata": {},
   "outputs": [
    {
     "name": "stdout",
     "output_type": "stream",
     "text": [
      "enter a positive integer: 2\n",
      "1 1 1\n",
      "2 4 8\n"
     ]
    }
   ],
   "source": [
    "while True:\n",
    "numb = int(input(\"enter a positive integer: \"))\n",
    "\n",
    "for i in range(1, numb + 1):\n",
    "    print(i,i**2,i**3)\n",
    "cont = input(\"enter yes if you would like to continue:\")"
   ]
  },
  {
   "cell_type": "markdown",
   "id": "df700ede",
   "metadata": {},
   "source": [
    "Convert given number grades into letter grades.\n",
    "\n",
    "Prompt the user for a numerical grade from 0 to 100\n",
    "Display the corresponding letter grade\n",
    "Prompt the user to continue\n",
    "Assume that the user will enter valid integers for the grades\n",
    "The application should only continue if the user agrees to\n",
    "Grade Ranges:\n",
    "\n",
    "A : 100 - 88\n",
    "B : 87 - 80\n",
    "C : 79 - 67\n",
    "D : 66 - 60\n",
    "F : 59 - 0"
   ]
  },
  {
   "cell_type": "code",
   "execution_count": 99,
   "id": "4c2eeea2",
   "metadata": {},
   "outputs": [
    {
     "name": "stdout",
     "output_type": "stream",
     "text": [
      "enter a numeric grade from 0-100: 3\n",
      "F\n",
      "would you like to continue? 90\n",
      "thank you for playing!\n"
     ]
    }
   ],
   "source": [
    "while True:\n",
    "    grade = int(input(\"enter a numeric grade from 0-100: \"))\n",
    "\n",
    "    if grade >= 88:\n",
    "        print(\"A\")\n",
    "    if grade >= 80:\n",
    "        print(\"B\")\n",
    "    if grade >= 67:\n",
    "        print(\"C\")\n",
    "    if grade >= 60:\n",
    "        print(\"D\")\n",
    "    else: \n",
    "        print(\"F\")\n",
    "    cont = input(\"would you like to continue? \")\n",
    "\n",
    "    if cont.lower() != \"y\":\n",
    "        print(\"thank you for playing!\")\n",
    "        break"
   ]
  },
  {
   "cell_type": "markdown",
   "id": "df714e6d",
   "metadata": {},
   "source": [
    "Create a list of dictionaries where each dictionary represents a book that you have read. Each dictionary in the list should have the keys title, author, and genre. Loop through the list and print out information about each book.\n",
    "\n",
    "Prompt the user to enter a genre, then loop through your books list and print out the titles of all the books in that genre.\n"
   ]
  },
  {
   "cell_type": "code",
   "execution_count": null,
   "id": "6d5e0fa1",
   "metadata": {},
   "outputs": [],
   "source": [
    "for book in books:\n",
    "    print()"
   ]
  }
 ],
 "metadata": {
  "kernelspec": {
   "display_name": "Python 3 (ipykernel)",
   "language": "python",
   "name": "python3"
  },
  "language_info": {
   "codemirror_mode": {
    "name": "ipython",
    "version": 3
   },
   "file_extension": ".py",
   "mimetype": "text/x-python",
   "name": "python",
   "nbconvert_exporter": "python",
   "pygments_lexer": "ipython3",
   "version": "3.9.13"
  }
 },
 "nbformat": 4,
 "nbformat_minor": 5
}
